{
 "cells": [
  {
   "cell_type": "code",
   "execution_count": null,
   "metadata": {},
   "outputs": [],
   "source": [
    "from math import log, sqrt\n",
    "\n",
    "class MCTSNode:\n",
    "    def __init__(self, parent, action, player):\n",
    "        self.parent = parent #para decirle a nodo de donde viene\n",
    "        self.action = action #para saber como se va de un nodo a otro\n",
    "        self.children = [] #para saber los descendientes. un nodo va a estar asociado con un estado y las acciones pueden ser distintas. cuando se crea un nodo, no se tinen sus descendientes y por eso se crea como lista\n",
    "        self.explored_children = 0 #no es muy claro como hacer la seleccion. para pasar al menos una vez por seleccion\n",
    "        #cuantas mas acciones se exploren mas idea vamos a tener. en explored children van la cantidad de acciones exploradas.\n",
    "        self.visits = 0 #para determinar el valor del nodo se va a requerir saber cuantas veces fue visitado. para elegir la decision a tomar en el arbol se usa la cantidad de visitas\n",
    "        self.value = 0 #asociado a visitas, es el valor de cada visita. value se actualiza en el rollout\n",
    "        self.player = player \n",
    "        #el verdadero no es necesario guardarlo. No hay ninguna informacion sobre el contenido del nodo, eso esta bien que sea asi\n",
    "        #el estado no se guarda xq se va a descubrir jugando\n",
    "        #hay que saber en cada la accion por la cual se llego al nodo y quien es el que juega. en raiz el parent es none\n",
    "\n",
    "\n",
    "#una vez que se hizo el rollout se necesita ir para atras para ir levantando los nodos. necesitamos saber en cada nodo cua\n",
    "#es el resultado. \n",
    "\n",
    "\n",
    "def ucb(node, C=sqrt(2)):\n",
    "    return node.value / node.visits + C * sqrt(log(node.parent.visits)/node.visits)"
   ]
  },
  {
   "cell_type": "code",
   "execution_count": null,
   "metadata": {},
   "outputs": [],
   "source": [
    "root = MCTSNate(parent=None,action=None, player=player)\n",
    "#seleccion\n",
    "\n",
    "while time remains.. \n",
    "  #hay que hacer repeat de\n",
    "  montecarlo_tree_search_eval \n",
    "  #lo anterior nos va a dar un nodo que es un descendiente de:\n",
    "  node, board(va cambiando en cada jugada) = root.selection(board,player,...) #siempre se arranca desde la razi, aca esta el jugador inicial. es lo unico que queda clonado y freezado. es lo unico que se clona el estado de donde arrancamos, el resto se aprende.  ultima_accion_llegada_con_la_seleccion (se puede hacer adentro del nodo y que quede todo encapsulado)\n",
    "  #   -- while node tenga hijos no visitados (mientral el nodo tenga hijos)\n",
    "  #   -- => elijo hijo no visitado y sigo\n",
    "  #   -- cuando creamos el nodo hacemos un shuffle de las acciones asi los hijos no quedan ornedaos\n",
    "  #   -- podemos usar explored_children como el indice del hijo que no fue explorado\n",
    "  #   -- el valor de explore children es el indice del primer indice a explorar\n",
    "  # node.expansion(board,..)\n",
    "  #   --cada vez que seleccionamos un hijo, jugamos\n",
    "  #   --si no nos quedan hijos no visitados, se hace una seleccion en base al criterio del arbol (greedy u otro criterio)\n",
    "  #   board = board.play(action)\n",
    "\n",
    "  node.expansion(board,)\n",
    "#le hacemos la expansion al nodo anterior. hay que darle un nodo sin nada y desde ahi hay que continuar haciendo rollout. el node.children tomado del node en expansion nos va a dar todos los hijos de nodo anterior. son todos los hijos sin explorar. hay que asegurarse de no expandir en selecciones finales.\n",
    "    # -- si el nodo no es final, generarle la lista de todos los sucesores SIN JUGARLOS. se le piden \n",
    "    # -- todos los movimientos asociados al board. board.play te da el nuevo board.\n",
    "    # -- le pedis todas las acciones posibles y creamos un nodo que tenga como padre noad y como\n",
    "    # --jugador el que le toca jugar\n",
    "\n",
    "  node.rollout(board,) #luego agarro nodo y le hago rollout. eso me devuelve un reward. dado que estamos usando max n va a ser para todos los jugadores\n",
    "    # -- hay que tenerlo implementado hasta llegar a un estado final (es el mismo usemos 1 o 2)\n",
    "    # -- hay que chequear que el estado no sea final. tiene que ser el board del nodo al que llegamos y arrancar con la profundidad que deseemos\n",
    "  \n",
    "  node.backprop(value) #ir recorriendo para atras el arbol hasta llegar a la raiz. en cada rollout calculas un solo valor y ese se va sumando a los valores que vas obteniendo en los anterior \n",
    "    # -- es hacer un while para aumentar el valor y las visitas"
   ]
  }
 ],
 "metadata": {
  "language_info": {
   "name": "python"
  },
  "orig_nbformat": 4
 },
 "nbformat": 4,
 "nbformat_minor": 2
}
